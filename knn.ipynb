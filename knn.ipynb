{
 "cells": [
  {
   "cell_type": "code",
   "execution_count": 162,
   "metadata": {},
   "outputs": [],
   "source": [
    "import numpy as np\n",
    "import operator\n",
    "import matplotlib.pyplot as plt\n"
   ]
  },
  {
   "cell_type": "code",
   "execution_count": 163,
   "metadata": {},
   "outputs": [],
   "source": [
    "# 构建数据集 \n",
    "def createDataSet():\n",
    "    group = np.array([[1,1.1],[1,1],[0,0],[0,0.1]],dtype=np.float16)\n",
    "    labels = [\"A\",'A',\"B\",\"B\"]\n",
    "    return group , labels"
   ]
  },
  {
   "cell_type": "code",
   "execution_count": 164,
   "metadata": {},
   "outputs": [],
   "source": [
    "train_x,train_y = createDataSet()"
   ]
  },
  {
   "cell_type": "code",
   "execution_count": 165,
   "metadata": {},
   "outputs": [
    {
     "name": "stdout",
     "output_type": "stream",
     "text": [
      "[[1.  1.1]\n",
      " [1.  1. ]\n",
      " [0.  0. ]\n",
      " [0.  0.1]]\n",
      "(4, 2)\n"
     ]
    }
   ],
   "source": [
    "print(train_x)\n",
    "print(train_x.shape)"
   ]
  },
  {
   "cell_type": "code",
   "execution_count": 166,
   "metadata": {},
   "outputs": [
    {
     "data": {
      "text/plain": [
       "['A', 'A', 'B', 'B']"
      ]
     },
     "execution_count": 166,
     "metadata": {},
     "output_type": "execute_result"
    }
   ],
   "source": [
    "train_y"
   ]
  },
  {
   "cell_type": "code",
   "execution_count": 167,
   "metadata": {},
   "outputs": [
    {
     "data": {
      "image/png": "[encoded data removed]",
      "text/plain": [
       "<matplotlib.figure.Figure at 0x10ed87668>"
      ]
     },
     "metadata": {},
     "output_type": "display_data"
    }
   ],
   "source": [
    "plt.scatter(train_x[:,0],train_x[:,1])\n",
    "plt.show()"
   ]
  },
  {
   "cell_type": "code",
   "execution_count": null,
   "metadata": {},
   "outputs": [],
   "source": []
  },
  {
   "cell_type": "code",
   "execution_count": 168,
   "metadata": {},
   "outputs": [],
   "source": [
    "test_x = [0,0]\n",
    "datasize = train_x.shape[0] # 取出行数\n",
    "diffMat = np.tile(test_x,(datasize,1)) - train_x  # 使用 np.tile 函数 将 test_x  转变成 一个 行 == 训练集行数 的 矩阵"
   ]
  },
  {
   "cell_type": "code",
   "execution_count": 121,
   "metadata": {},
   "outputs": [
    {
     "data": {
      "text/plain": [
       "array([[0, 0],\n",
       "       [0, 0],\n",
       "       [0, 0],\n",
       "       [0, 0]])"
      ]
     },
     "execution_count": 121,
     "metadata": {},
     "output_type": "execute_result"
    }
   ],
   "source": [
    "# np.tile(A,reps)\n",
    "# 在 行 和 列 上 重复 A \n",
    "# np.tile([0,0],（4，1) --》 行4 次 ， 列1次（1次就是不重复）--》 [[0,0],[0,0],[0,0],[0,0]]\n",
    "np.tile([0,0],[4,1])"
   ]
  },
  {
   "cell_type": "code",
   "execution_count": 122,
   "metadata": {},
   "outputs": [
    {
     "data": {
      "text/plain": [
       "array([[-1.        , -1.09960938],\n",
       "       [-1.        , -1.        ],\n",
       "       [ 0.        ,  0.        ],\n",
       "       [ 0.        , -0.09997559]])"
      ]
     },
     "execution_count": 122,
     "metadata": {},
     "output_type": "execute_result"
    }
   ],
   "source": [
    "diffMat  # 得到 test_x 与 训练集 样本点 各特征的 差值"
   ]
  },
  {
   "cell_type": "code",
   "execution_count": 123,
   "metadata": {},
   "outputs": [
    {
     "data": {
      "text/plain": [
       "array([[1.        , 1.20914078],\n",
       "       [1.        , 1.        ],\n",
       "       [0.        , 0.        ],\n",
       "       [0.        , 0.00999512]])"
      ]
     },
     "execution_count": 123,
     "metadata": {},
     "output_type": "execute_result"
    }
   ],
   "source": [
    "sqrtDiffMat = diffMat**2\n",
    "sqrtDiffMat"
   ]
  },
  {
   "cell_type": "code",
   "execution_count": 124,
   "metadata": {},
   "outputs": [],
   "source": [
    "sqrtDistance = sqrtDiffMat.sum(axis = 1) # np.array 内置的 sum() axis= 1 行进行 求和 / axis = 0 对列进行求和"
   ]
  },
  {
   "cell_type": "code",
   "execution_count": 125,
   "metadata": {},
   "outputs": [
    {
     "data": {
      "text/plain": [
       "array([1.48631786, 1.41421356, 0.        , 0.09997559])"
      ]
     },
     "execution_count": 125,
     "metadata": {},
     "output_type": "execute_result"
    }
   ],
   "source": [
    "distance = np.sqrt(sqrtDistance)\n",
    "distance"
   ]
  },
  {
   "cell_type": "code",
   "execution_count": 126,
   "metadata": {},
   "outputs": [
    {
     "data": {
      "text/plain": [
       "array([2, 3, 1, 0])"
      ]
     },
     "execution_count": 126,
     "metadata": {},
     "output_type": "execute_result"
    }
   ],
   "source": [
    "sortedDistIndices = distance.argsort() # 根据 元素大小 排序 返回 index （从小到大）排列的 数组\n",
    "sortedDistIndices"
   ]
  },
  {
   "cell_type": "code",
   "execution_count": 127,
   "metadata": {},
   "outputs": [],
   "source": [
    "classCount ={}\n",
    "k = 3\n",
    "for i in range(k):\n",
    "    voteLabel = train_y[sortedDistIndices[i]]\n",
    "    classCount[voteLabel] = classCount.get(voteLabel,0) +1 \n"
   ]
  },
  {
   "cell_type": "code",
   "execution_count": 128,
   "metadata": {},
   "outputs": [
    {
     "data": {
      "text/plain": [
       "{'A': 1, 'B': 2}"
      ]
     },
     "execution_count": 128,
     "metadata": {},
     "output_type": "execute_result"
    }
   ],
   "source": [
    "classCount"
   ]
  },
  {
   "cell_type": "code",
   "execution_count": 129,
   "metadata": {},
   "outputs": [
    {
     "data": {
      "text/plain": [
       "[('B', 2), ('A', 1)]"
      ]
     },
     "execution_count": 129,
     "metadata": {},
     "output_type": "execute_result"
    }
   ],
   "source": [
    "sortedClassCount = sorted(classCount.items(),key=operator.itemgetter(1),reverse=True)\n",
    "#  operator.itemgetter(x)  调用 classCount.items() 的 __getitem__() 方法 返回 f(x)\n",
    "sortedClassCount"
   ]
  },
  {
   "cell_type": "code",
   "execution_count": 130,
   "metadata": {},
   "outputs": [
    {
     "data": {
      "text/plain": [
       "[1, 3]"
      ]
     },
     "execution_count": 130,
     "metadata": {},
     "output_type": "execute_result"
    }
   ],
   "source": [
    "list(map(operator.itemgetter(0),[(1,2),(3,4)])) "
   ]
  },
  {
   "cell_type": "code",
   "execution_count": 131,
   "metadata": {},
   "outputs": [
    {
     "data": {
      "text/plain": [
       "'B'"
      ]
     },
     "execution_count": 131,
     "metadata": {},
     "output_type": "execute_result"
    }
   ],
   "source": [
    "sortedClassCount[0][0]"
   ]
  },
  {
   "cell_type": "code",
   "execution_count": 237,
   "metadata": {},
   "outputs": [],
   "source": [
    "class MyKnnClassifier():\n",
    "    def __init__(self,n_neighbors,weights ='distance' ):\n",
    "        self.n_neighbors = n_neighbors\n",
    "        self.weights = weights\n",
    "    def fit(self,train_x,train_y):\n",
    "        assert train_x.shape[0] == len(train_y) # 训练集 数据 和 标签 数量要一致\n",
    "        self.train_x = train_x\n",
    "        self.train_y = train_y\n",
    "    def predict(self,test_x):\n",
    "        if self.weights == \"distance\":\n",
    "            # 计算欧式距离\n",
    "            diffMatrix = train_x - np.tile(test_x, (train_x.shape[0],1)) # [a0 - b0, a1-b1]\n",
    "            squarediffMatrix = diffMatrix**2 #[ (a0 - b0)^2, (a1-b1)^2]\n",
    "            distance = np.sqrt(squarediffMatrix.sum(axis=1)) #   ((a0 - b0)^2 + (a1-b1)^2)^1/2  按行进行 求和 变成 n 行 1 列\n",
    "            sortDistance = distance.argsort()  # 从小到大 排序 返回index \n",
    "        else:\n",
    "            return None\n",
    "        self.classCount = {}\n",
    "        # 取 前K个 标签中 频次最高的 \n",
    "        for i in range(self.n_neighbors):\n",
    "            voteLabels = train_y[sortDistance[i]] # 输出 sortDistance 中 第i个元素\n",
    "            self.classCount[voteLabels] = self.classCount.get(voteLabels,0) + 1\n",
    "         \n",
    "        return sorted(self.classCount.items(), key=operator.itemgetter(1),reverse=True)[0][0]\n",
    "            \n"
   ]
  },
  {
   "cell_type": "code",
   "execution_count": 238,
   "metadata": {},
   "outputs": [
    {
     "data": {
      "text/plain": [
       "'B'"
      ]
     },
     "execution_count": 238,
     "metadata": {},
     "output_type": "execute_result"
    }
   ],
   "source": [
    "test_x = [0,0]\n",
    "myknn = MyKnnClassifier(3)\n",
    "myknn.fit(train_x,train_y)\n",
    "myknn.predict(test_x)"
   ]
  },
  {
   "cell_type": "code",
   "execution_count": null,
   "metadata": {},
   "outputs": [],
   "source": [
    "\n"
   ]
  },
  {
   "cell_type": "code",
   "execution_count": null,
   "metadata": {},
   "outputs": [],
   "source": []
  },
  {
   "cell_type": "code",
   "execution_count": null,
   "metadata": {},
   "outputs": [],
   "source": []
  }
 ],
 "metadata": {
  "kernelspec": {
   "display_name": "Python 3",
   "language": "python",
   "name": "python3"
  },
  "language_info": {
   "codemirror_mode": {
    "name": "ipython",
    "version": 3
   },
   "file_extension": ".py",
   "mimetype": "text/x-python",
   "name": "python",
   "nbconvert_exporter": "python",
   "pygments_lexer": "ipython3",
   "version": "3.6.4"
  }
 },
 "nbformat": 4,
 "nbformat_minor": 1
}
